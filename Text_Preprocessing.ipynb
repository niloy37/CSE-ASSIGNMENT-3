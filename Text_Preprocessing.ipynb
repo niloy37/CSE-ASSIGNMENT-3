{
  "nbformat": 4,
  "nbformat_minor": 0,
  "metadata": {
    "colab": {
      "provenance": [],
      "authorship_tag": "ABX9TyPTa724tWYfON6UVXC8duKG",
      "include_colab_link": true
    },
    "kernelspec": {
      "name": "python3",
      "display_name": "Python 3"
    },
    "language_info": {
      "name": "python"
    }
  },
  "cells": [
    {
      "cell_type": "markdown",
      "metadata": {
        "id": "view-in-github",
        "colab_type": "text"
      },
      "source": [
        "<a href=\"https://colab.research.google.com/github/niloy37/CSE-ASSIGNMENT-3/blob/master/Text_Preprocessing.ipynb\" target=\"_parent\"><img src=\"https://colab.research.google.com/assets/colab-badge.svg\" alt=\"Open In Colab\"/></a>"
      ]
    },
    {
      "cell_type": "code",
      "execution_count": 1,
      "metadata": {
        "colab": {
          "base_uri": "https://localhost:8080/"
        },
        "id": "LAD5bLgU8uyK",
        "outputId": "1fbb47d8-08b1-4018-df6f-3492bfaaad0c"
      },
      "outputs": [
        {
          "output_type": "stream",
          "name": "stdout",
          "text": [
            "Colab only includes TensorFlow 2.x; %tensorflow_version has no effect.\n",
            "2.13.0\n"
          ]
        }
      ],
      "source": [
        "try:\n",
        "  %tensorflow_version 2.x\n",
        "except Exception:\n",
        "  pass\n",
        "import tensorflow as tf\n",
        "print(tf.__version__)"
      ]
    },
    {
      "cell_type": "code",
      "source": [
        "from tensorflow.keras.preprocessing.text import Tokenizer\n",
        "from tensorflow.keras.preprocessing.sequence import pad_sequences"
      ],
      "metadata": {
        "id": "swq5Im3s9FFE"
      },
      "execution_count": 2,
      "outputs": []
    },
    {
      "cell_type": "code",
      "source": [
        "sentences = [\n",
        "    \"I like eggs and ham.\",\n",
        "    \"I love chocolate and bunnies.\",\n",
        "    \"I hate onions\"\n",
        "]"
      ],
      "metadata": {
        "id": "3NXLOwpL9ZvM"
      },
      "execution_count": 3,
      "outputs": []
    },
    {
      "cell_type": "code",
      "source": [
        "MAX_VOCAB_SIZE = 20000\n",
        "tokenizer = Tokenizer(num_words = MAX_VOCAB_SIZE)\n",
        "tokenizer.fit_on_texts(sentences)\n",
        "sequences = tokenizer.texts_to_sequences(sentences)"
      ],
      "metadata": {
        "id": "K_i-d5M59mg7"
      },
      "execution_count": 6,
      "outputs": []
    },
    {
      "cell_type": "code",
      "source": [
        "print(sequences)"
      ],
      "metadata": {
        "colab": {
          "base_uri": "https://localhost:8080/"
        },
        "id": "dPg5orOS91Sp",
        "outputId": "f8991e5a-79e9-4e29-d1c2-024c2011e2c6"
      },
      "execution_count": 7,
      "outputs": [
        {
          "output_type": "stream",
          "name": "stdout",
          "text": [
            "[[1, 3, 4, 2, 5], [1, 6, 7, 2, 8], [1, 9, 10]]\n"
          ]
        }
      ]
    },
    {
      "cell_type": "code",
      "source": [
        "#index mapping\n",
        "tokenizer.word_index"
      ],
      "metadata": {
        "colab": {
          "base_uri": "https://localhost:8080/"
        },
        "id": "dJLDdpCG97m2",
        "outputId": "def5e917-d5c7-4a4a-ecf1-250c8ac80fa2"
      },
      "execution_count": 8,
      "outputs": [
        {
          "output_type": "execute_result",
          "data": {
            "text/plain": [
              "{'i': 1,\n",
              " 'and': 2,\n",
              " 'like': 3,\n",
              " 'eggs': 4,\n",
              " 'ham': 5,\n",
              " 'love': 6,\n",
              " 'chocolate': 7,\n",
              " 'bunnies': 8,\n",
              " 'hate': 9,\n",
              " 'onions': 10}"
            ]
          },
          "metadata": {},
          "execution_count": 8
        }
      ]
    },
    {
      "cell_type": "code",
      "source": [
        "data = pad_sequences(sequences)\n",
        "print(data)"
      ],
      "metadata": {
        "colab": {
          "base_uri": "https://localhost:8080/"
        },
        "id": "-dzjDXOZ-Bs1",
        "outputId": "5bf47f63-f926-4af9-dfba-c8538f0ee10f"
      },
      "execution_count": 9,
      "outputs": [
        {
          "output_type": "stream",
          "name": "stdout",
          "text": [
            "[[ 1  3  4  2  5]\n",
            " [ 1  6  7  2  8]\n",
            " [ 0  0  1  9 10]]\n"
          ]
        }
      ]
    },
    {
      "cell_type": "code",
      "source": [
        "MAX_SEQUENCE_LENGTH = 5\n",
        "data = pad_sequences(sequences, maxlen = MAX_SEQUENCE_LENGTH)\n",
        "print(data)"
      ],
      "metadata": {
        "colab": {
          "base_uri": "https://localhost:8080/"
        },
        "id": "8XRNQUg6-OID",
        "outputId": "8aad1db9-d474-4de9-abf9-059951155de4"
      },
      "execution_count": 11,
      "outputs": [
        {
          "output_type": "stream",
          "name": "stdout",
          "text": [
            "[[ 1  3  4  2  5]\n",
            " [ 1  6  7  2  8]\n",
            " [ 0  0  1  9 10]]\n"
          ]
        }
      ]
    },
    {
      "cell_type": "code",
      "source": [
        "data = pad_sequences(sequences, maxlen = MAX_SEQUENCE_LENGTH, padding = \"post\")\n",
        "print(data)"
      ],
      "metadata": {
        "colab": {
          "base_uri": "https://localhost:8080/"
        },
        "id": "getM5mS2-exr",
        "outputId": "8a7e00f3-50aa-4fe5-e836-21cd680bb265"
      },
      "execution_count": 12,
      "outputs": [
        {
          "output_type": "stream",
          "name": "stdout",
          "text": [
            "[[ 1  3  4  2  5]\n",
            " [ 1  6  7  2  8]\n",
            " [ 1  9 10  0  0]]\n"
          ]
        }
      ]
    },
    {
      "cell_type": "code",
      "source": [
        "data = pad_sequences(sequences, maxlen = 6) #too much padding\n",
        "print(data)"
      ],
      "metadata": {
        "colab": {
          "base_uri": "https://localhost:8080/"
        },
        "id": "zq0B02_J-2fl",
        "outputId": "f1ac4c2d-e0b5-441f-aace-a0790aa9e4f2"
      },
      "execution_count": 13,
      "outputs": [
        {
          "output_type": "stream",
          "name": "stdout",
          "text": [
            "[[ 0  1  3  4  2  5]\n",
            " [ 0  1  6  7  2  8]\n",
            " [ 0  0  0  1  9 10]]\n"
          ]
        }
      ]
    },
    {
      "cell_type": "code",
      "source": [
        "data = pad_sequences(sequences, maxlen = 4) #less than size\n",
        "print(data)"
      ],
      "metadata": {
        "colab": {
          "base_uri": "https://localhost:8080/"
        },
        "id": "a6ruz6V6_BSA",
        "outputId": "71d04377-c405-4f99-faf1-f700a2e8b67e"
      },
      "execution_count": 14,
      "outputs": [
        {
          "output_type": "stream",
          "name": "stdout",
          "text": [
            "[[ 3  4  2  5]\n",
            " [ 6  7  2  8]\n",
            " [ 0  1  9 10]]\n"
          ]
        }
      ]
    },
    {
      "cell_type": "code",
      "source": [
        "data = pad_sequences(sequences, maxlen = 4, truncating = \"post\") #less than size\n",
        "print(data)"
      ],
      "metadata": {
        "colab": {
          "base_uri": "https://localhost:8080/"
        },
        "id": "QqSCBi7b_Idv",
        "outputId": "fd4524ee-def7-4557-aa05-fc5337a37ab7"
      },
      "execution_count": 15,
      "outputs": [
        {
          "output_type": "stream",
          "name": "stdout",
          "text": [
            "[[ 1  3  4  2]\n",
            " [ 1  6  7  2]\n",
            " [ 0  1  9 10]]\n"
          ]
        }
      ]
    }
  ]
}